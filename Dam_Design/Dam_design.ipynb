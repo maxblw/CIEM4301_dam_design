{
 "cells": [
  {
   "cell_type": "code",
   "execution_count": 5,
   "id": "daa75136",
   "metadata": {},
   "outputs": [],
   "source": [
    "import numpy as np\n",
    "import matplotlib as plt"
   ]
  },
  {
   "cell_type": "code",
   "execution_count": 6,
   "id": "63a04bf8",
   "metadata": {},
   "outputs": [
    {
     "name": "stdout",
     "output_type": "stream",
     "text": [
      "14.763194111174165 340.2904797555042\n",
      "The wave height is 0.63m, so the dam height should be at least 135.63m\n"
     ]
    }
   ],
   "source": [
    "Depth = 135\n",
    "Length = 500\n",
    "Wind_speed = 118.30 / 3.6\n",
    "def waveHeight(Wind_speed, Length, Depth):\n",
    "    H_inf = 0.24\n",
    "    dim_F = (9.81 * Length) / (Wind_speed ** 2)\n",
    "    dim_d = (9.81 * Depth) / (Wind_speed ** 2)\n",
    "    dim_H = H_inf * (np.tanh(0.343 * (dim_d ** 1.14)) * np.tanh((4.41*(10**-4) * (dim_F ** 0.79)) / np.tanh(0.343 * (dim_d ** 1.14)))) ** 0.572\n",
    "    H_wave = (dim_H * (Wind_speed ** 2)) / 9.81\n",
    "    T_P = 0.566 * (Length ** 0.3) * (Wind_speed ** 0.4)\n",
    "    L_0 = (9.81 * T_P ** 2) / (2 * np.pi)\n",
    "    print(T_P, L_0)\n",
    "    return H_wave, L_0\n",
    "\n",
    "h_w, L_0 = waveHeight(Wind_speed, Length, Depth)\n",
    "\n",
    "height = Depth + h_w\n",
    "print(f'The wave height is {h_w:.2f}m, so the dam height should be at least {height:.2f}m')\n",
    "\n"
   ]
  },
  {
   "cell_type": "code",
   "execution_count": 7,
   "id": "3f68c908",
   "metadata": {},
   "outputs": [
    {
     "name": "stdout",
     "output_type": "stream",
     "text": [
      "The run-up height for a 1:3 slope is 2.83m so the minimum dam height is 138.46m\n",
      "The run-up height for a 1:4 slope is 2.35m so the minimum dam height is 137.98m\n",
      "The run-up height for a 1:6 slope is 1.86m so the minimum dam height is 137.49m\n",
      "The run-up height for a 1:7 slope is 1.71m so the minimum dam height is 137.34m\n",
      "The run-up height for a 1:10 slope is 1.45m so the minimum dam height is 137.08m\n"
     ]
    }
   ],
   "source": [
    "def RunUp(H, L_0, slope):\n",
    "    beta = np.arctan(1/slope)\n",
    "    S = 1.28 + 3 * (beta) * H\n",
    "    nu = 0.92 * (beta) * H ** 0.7 * L_0 ** 0.3\n",
    "    R_u = 1.3 * (nu + 0.5 * S)\n",
    "    return R_u\n",
    "for i in [3, 4, 6, 7, 10]:\n",
    "    height = Depth + h_w\n",
    "    height = height + RunUp(h_w, L_0, i)\n",
    "    print(f'The run-up height for a 1:{i} slope is {RunUp(h_w, L_0, i):.2f}m so the minimum dam height is {height:.2f}m')\n",
    "    if i == 3:\n",
    "        dam_height = height"
   ]
  },
  {
   "cell_type": "code",
   "execution_count": 8,
   "id": "ddb88eb1",
   "metadata": {},
   "outputs": [
    {
     "name": "stdout",
     "output_type": "stream",
     "text": [
      "The slope length for an 1:3 slope is 411.24m\n",
      "The slope length for an 1:4 slope is 548.32m\n",
      "The slope length for an 1:6 slope is 822.48m\n",
      "The slope length for an 1:7 slope is 959.57m\n",
      "The slope length for an 1:10 slope is 1370.81m\n",
      "\n",
      "FINAL DESIGN:\n",
      "The dam width at the base is 842.48m for a crest width of 20m and a slope of 1:3, the dam height will be 138.46m\n"
     ]
    }
   ],
   "source": [
    "slope = 3\n",
    "\n",
    "for i in [3, 4, 6, 7, 10]:\n",
    "    slope_length = height * i\n",
    "    print(f'The slope length for an 1:{i} slope is {slope_length:.2f}m')\n",
    "    if i == slope:\n",
    "        l_slope = slope_length\n",
    "\n",
    "crest_width = 20\n",
    "width_d = l_slope * 2 + crest_width\n",
    "\n",
    "print()\n",
    "print('FINAL DESIGN:')\n",
    "print(f'The dam width at the base is {width_d:.2f}m for a crest width of {crest_width}m and a slope of 1:{slope}, the dam height will be {dam_height:.2f}m')"
   ]
  },
  {
   "cell_type": "code",
   "execution_count": null,
   "id": "fc319210",
   "metadata": {},
   "outputs": [],
   "source": []
  }
 ],
 "metadata": {
  "kernelspec": {
   "display_name": "Python 3",
   "language": "python",
   "name": "python3"
  },
  "language_info": {
   "codemirror_mode": {
    "name": "ipython",
    "version": 3
   },
   "file_extension": ".py",
   "mimetype": "text/x-python",
   "name": "python",
   "nbconvert_exporter": "python",
   "pygments_lexer": "ipython3",
   "version": "3.12.4"
  }
 },
 "nbformat": 4,
 "nbformat_minor": 5
}
