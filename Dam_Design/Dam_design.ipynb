{
 "cells": [
  {
   "cell_type": "code",
   "execution_count": 2,
   "id": "daa75136",
   "metadata": {},
   "outputs": [],
   "source": [
    "import numpy as np\n",
    "import matplotlib as plt"
   ]
  },
  {
   "cell_type": "code",
   "execution_count": 9,
   "id": "63a04bf8",
   "metadata": {},
   "outputs": [
    {
     "data": {
      "text/plain": [
       "1.8681400202708358"
      ]
     },
     "execution_count": 9,
     "metadata": {},
     "output_type": "execute_result"
    }
   ],
   "source": [
    "Depth = 135\n",
    "Length = 2000\n",
    "Wind_speed = 50\n",
    "def waveHeight():\n",
    "    H_inf = 0.24\n",
    "    dim_F = (9.81 * Length) / (Wind_speed ** 2)\n",
    "    dim_d = (9.81 * Depth) / (Wind_speed ** 2)\n",
    "    dim_H = H_inf * (np.tanh(0.343 * (dim_d ** 1.14)) * np.tanh((4.41*(10**-4) * (dim_F ** 0.79)) / np.tanh(0.343 * (dim_d ** 1.14)))) ** 0.572\n",
    "    H_wave = (dim_H * (Wind_speed ** 2)) / 9.81\n",
    "    return H_wave\n",
    "\n",
    "waveHeight()\n",
    "\n"
   ]
  },
  {
   "cell_type": "code",
   "execution_count": null,
   "id": "a4a830c6",
   "metadata": {},
   "outputs": [],
   "source": []
  }
 ],
 "metadata": {
  "kernelspec": {
   "display_name": "Python 3",
   "language": "python",
   "name": "python3"
  },
  "language_info": {
   "codemirror_mode": {
    "name": "ipython",
    "version": 3
   },
   "file_extension": ".py",
   "mimetype": "text/x-python",
   "name": "python",
   "nbconvert_exporter": "python",
   "pygments_lexer": "ipython3",
   "version": "3.12.4"
  }
 },
 "nbformat": 4,
 "nbformat_minor": 5
}
