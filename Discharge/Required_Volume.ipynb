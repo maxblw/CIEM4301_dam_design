{
 "cells": [
  {
   "cell_type": "code",
   "execution_count": 18,
   "id": "885e95d6",
   "metadata": {},
   "outputs": [],
   "source": [
    "import matplotlib.pyplot as plt\n",
    "import numpy as np\n",
    "import pandas as pd"
   ]
  },
  {
   "cell_type": "markdown",
   "id": "8a53c3f9",
   "metadata": {},
   "source": [
    "##### RIPPL Curve"
   ]
  },
  {
   "cell_type": "code",
   "execution_count": 19,
   "id": "d1285c20",
   "metadata": {},
   "outputs": [
    {
     "data": {
      "text/html": [
       "<div>\n",
       "<style scoped>\n",
       "    .dataframe tbody tr th:only-of-type {\n",
       "        vertical-align: middle;\n",
       "    }\n",
       "\n",
       "    .dataframe tbody tr th {\n",
       "        vertical-align: top;\n",
       "    }\n",
       "\n",
       "    .dataframe thead th {\n",
       "        text-align: right;\n",
       "    }\n",
       "</style>\n",
       "<table border=\"1\" class=\"dataframe\">\n",
       "  <thead>\n",
       "    <tr style=\"text-align: right;\">\n",
       "      <th></th>\n",
       "      <th>discharge</th>\n",
       "    </tr>\n",
       "    <tr>\n",
       "      <th>Date</th>\n",
       "      <th></th>\n",
       "    </tr>\n",
       "  </thead>\n",
       "  <tbody>\n",
       "    <tr>\n",
       "      <th>1965-01-01</th>\n",
       "      <td>61.793513</td>\n",
       "    </tr>\n",
       "    <tr>\n",
       "      <th>1965-01-02</th>\n",
       "      <td>61.793513</td>\n",
       "    </tr>\n",
       "    <tr>\n",
       "      <th>1965-01-03</th>\n",
       "      <td>61.793513</td>\n",
       "    </tr>\n",
       "    <tr>\n",
       "      <th>1965-01-04</th>\n",
       "      <td>61.793513</td>\n",
       "    </tr>\n",
       "    <tr>\n",
       "      <th>1965-01-05</th>\n",
       "      <td>60.690057</td>\n",
       "    </tr>\n",
       "  </tbody>\n",
       "</table>\n",
       "</div>"
      ],
      "text/plain": [
       "            discharge\n",
       "Date                 \n",
       "1965-01-01  61.793513\n",
       "1965-01-02  61.793513\n",
       "1965-01-03  61.793513\n",
       "1965-01-04  61.793513\n",
       "1965-01-05  60.690057"
      ]
     },
     "metadata": {},
     "output_type": "display_data"
    }
   ],
   "source": [
    "df = pd.read_csv('..\\\\Data\\\\Discharge_670.csv')\n",
    "\n",
    "data = np.array([])\n",
    "for column in df.columns[1:]:\n",
    "    data = np.append(data, df[column].values)\n",
    "\n",
    "df = pd.DataFrame(data, columns=[\"discharge\"])\n",
    "date = pd.date_range(start=\"1965-01-01\", periods=len(data), freq=\"D\")\n",
    "df[\"Date\"] = date\n",
    "df = df.set_index(\"Date\")\n",
    "\n",
    "# df = df[df.index > \"2000-01-01\"]\n",
    "\n",
    "display(df.head())"
   ]
  },
  {
   "cell_type": "code",
   "execution_count": 20,
   "id": "fb363bef",
   "metadata": {},
   "outputs": [
    {
     "data": {
      "text/html": [
       "<div>\n",
       "<style scoped>\n",
       "    .dataframe tbody tr th:only-of-type {\n",
       "        vertical-align: middle;\n",
       "    }\n",
       "\n",
       "    .dataframe tbody tr th {\n",
       "        vertical-align: top;\n",
       "    }\n",
       "\n",
       "    .dataframe thead th {\n",
       "        text-align: right;\n",
       "    }\n",
       "</style>\n",
       "<table border=\"1\" class=\"dataframe\">\n",
       "  <thead>\n",
       "    <tr style=\"text-align: right;\">\n",
       "      <th></th>\n",
       "      <th>discharge</th>\n",
       "      <th>cum</th>\n",
       "      <th>demand_cum</th>\n",
       "      <th>shortage</th>\n",
       "    </tr>\n",
       "    <tr>\n",
       "      <th>Date</th>\n",
       "      <th></th>\n",
       "      <th></th>\n",
       "      <th></th>\n",
       "      <th></th>\n",
       "    </tr>\n",
       "  </thead>\n",
       "  <tbody>\n",
       "    <tr>\n",
       "      <th>1</th>\n",
       "      <td>4.534098e+08</td>\n",
       "      <td>4.534098e+08</td>\n",
       "      <td>6.092776e+08</td>\n",
       "      <td>1.558679e+08</td>\n",
       "    </tr>\n",
       "    <tr>\n",
       "      <th>2</th>\n",
       "      <td>5.117705e+08</td>\n",
       "      <td>9.651803e+08</td>\n",
       "      <td>1.218555e+09</td>\n",
       "      <td>2.533750e+08</td>\n",
       "    </tr>\n",
       "    <tr>\n",
       "      <th>3</th>\n",
       "      <td>5.512859e+08</td>\n",
       "      <td>1.516466e+09</td>\n",
       "      <td>1.827833e+09</td>\n",
       "      <td>3.113668e+08</td>\n",
       "    </tr>\n",
       "    <tr>\n",
       "      <th>4</th>\n",
       "      <td>6.893799e+08</td>\n",
       "      <td>2.205846e+09</td>\n",
       "      <td>2.437111e+09</td>\n",
       "      <td>2.312646e+08</td>\n",
       "    </tr>\n",
       "    <tr>\n",
       "      <th>5</th>\n",
       "      <td>8.089902e+08</td>\n",
       "      <td>3.014836e+09</td>\n",
       "      <td>3.046388e+09</td>\n",
       "      <td>3.155201e+07</td>\n",
       "    </tr>\n",
       "  </tbody>\n",
       "</table>\n",
       "</div>"
      ],
      "text/plain": [
       "         discharge           cum    demand_cum      shortage\n",
       "Date                                                        \n",
       "1     4.534098e+08  4.534098e+08  6.092776e+08  1.558679e+08\n",
       "2     5.117705e+08  9.651803e+08  1.218555e+09  2.533750e+08\n",
       "3     5.512859e+08  1.516466e+09  1.827833e+09  3.113668e+08\n",
       "4     6.893799e+08  2.205846e+09  2.437111e+09  2.312646e+08\n",
       "5     8.089902e+08  3.014836e+09  3.046388e+09  3.155201e+07"
      ]
     },
     "metadata": {},
     "output_type": "display_data"
    },
    {
     "name": "stdout",
     "output_type": "stream",
     "text": [
      "311366838.9313228\n"
     ]
    },
    {
     "data": {
      "image/png": "[encoded data removed]",
      "text/plain": [
       "<Figure size 1000x1000 with 1 Axes>"
      ]
     },
     "metadata": {},
     "output_type": "display_data"
    }
   ],
   "source": [
    "df_aten = df.resample(\"ME\").mean()\n",
    "df_aten = df_aten.groupby(df_aten.index.month).mean()\n",
    "df_aten[\"discharge\"] = df_aten[\"discharge\"] * 3600 * 24 * 30.44  # m3/month\n",
    "df_aten[\"cum\"] = df_aten[\"discharge\"].cumsum()\n",
    "demand = df_aten[\"discharge\"].mean()\n",
    "df_aten[\"demand\"] = demand\n",
    "df_aten[\"demand_cum\"] = df_aten[\"demand\"].cumsum()\n",
    "df_aten.drop(columns=[\"demand\"], inplace=True)\n",
    "df_aten[\"shortage\"] = df_aten[\"demand_cum\"] - df_aten[\"cum\"]\n",
    "display(df_aten.head())\n",
    "\n",
    "\n",
    "shortage = df_aten[\"shortage\"].max()\n",
    "shortage_date = df_aten[\"shortage\"].idxmax()\n",
    "overflow = -df_aten[\"shortage\"].min()\n",
    "overflow_date = df_aten[\"shortage\"].idxmin()\n",
    "print(shortage)\n",
    "\n",
    "fig, ax = plt.subplots(figsize=(10, 10))\n",
    "\n",
    "# ax.plot(df_aten.index, df_aten[\"discharge\"], color=\"black\", label=\"Daily Discharge\")\n",
    "\n",
    "ax.plot(df_aten.index, df_aten[\"cum\"], color=\"blue\", label=\"Cumulative Discharge\")\n",
    "ax.plot(df_aten.index, df_aten[\"demand_cum\"], \"r--\", label=\"Cumulative Demand\")\n",
    "ax.set_xlim(1, 12)\n",
    "ax.set_xticks(range(1, 13))\n",
    "ax.set_xticklabels(\n",
    "    [\n",
    "        \"Jan\",\n",
    "        \"Feb\",\n",
    "        \"Mar\",\n",
    "        \"Apr\",\n",
    "        \"May\",\n",
    "        \"Jun\",\n",
    "        \"Jul\",\n",
    "        \"Aug\",\n",
    "        \"Sep\",\n",
    "        \"Oct\",\n",
    "        \"Nov\",\n",
    "        \"Dec\",\n",
    "    ]\n",
    ")\n",
    "ax.annotate('',\n",
    "            xy=(shortage_date, df_aten.loc[shortage_date, \"cum\"]),\n",
    "            xytext=(shortage_date, df_aten.loc[shortage_date, \"demand_cum\"]),\n",
    "            arrowprops=dict(arrowstyle='<->', color='black', lw=1)\n",
    "           )\n",
    "ax.text(shortage_date + 0.2, (df_aten.loc[shortage_date, \"cum\"] + df_aten.loc[shortage_date, \"demand_cum\"]) / 2,\n",
    "        f'Shortage: {shortage/10**6:,.0f} hm³', color='black', va='center', backgroundcolor='white')\n",
    "\n",
    "ax.annotate('',\n",
    "            xy=(overflow_date, df_aten.loc[overflow_date, \"cum\"]),\n",
    "            xytext=(overflow_date, df_aten.loc[overflow_date, \"demand_cum\"]),\n",
    "            arrowprops=dict(arrowstyle='<->', color='black', lw=1)\n",
    "           )\n",
    "ax.text(overflow_date + 0.2, (df_aten.loc[overflow_date, \"cum\"] + df_aten.loc[overflow_date, \"demand_cum\"]) / 2,\n",
    "        f'Overflow: {overflow/10**6:,.0f} hm³', color='black', va='center', backgroundcolor='white')  \n",
    "\n",
    "ax.grid()"
   ]
  },
  {
   "cell_type": "markdown",
   "id": "348a49c7",
   "metadata": {},
   "source": [
    "#### Universal Soil Loss Equation"
   ]
  },
  {
   "cell_type": "code",
   "execution_count": 21,
   "id": "81e7cdfd",
   "metadata": {},
   "outputs": [
    {
     "name": "stdout",
     "output_type": "stream",
     "text": [
      "Soil loss: 48.75 t/ha/yr\n",
      "Required volume for sediment retention: 305.62 hm³\n"
     ]
    }
   ],
   "source": [
    "R = 5000    # [MJ mm / (ha h yr)]\n",
    "K = 0.01   # [t ha h / (h ha MJ mm)]\n",
    "C = 0.15    # [-]\n",
    "LS = 6.5      # [-]\n",
    "P = 1     # [-]\n",
    "\n",
    "E = R * K * C * LS * P  # [t/ha/yr]\n",
    "print(f\"Soil loss: {E:.2f} t/ha/yr\")\n",
    "\n",
    "DL = 50 # [yr]\n",
    "A = 3260 * 100 # [ha]\n",
    "rho = 2.6 # [t/m3]\n",
    "vol_req_E = E * A * DL / rho # [m3]\n",
    "\n",
    "print(f\"Required volume for sediment retention: {vol_req_E/(10**6):.2f} hm³\")\n"
   ]
  },
  {
   "cell_type": "code",
   "execution_count": 22,
   "id": "958dbad5",
   "metadata": {},
   "outputs": [
    {
     "name": "stdout",
     "output_type": "stream",
     "text": [
      "Total required volume: 616.99 hm³\n"
     ]
    }
   ],
   "source": [
    "vol_req_tot = shortage + vol_req_E\n",
    "print(f\"Total required volume: {vol_req_tot/(10**6):.2f} hm³\")\n"
   ]
  },
  {
   "cell_type": "code",
   "execution_count": null,
   "id": "a92455eb",
   "metadata": {},
   "outputs": [],
   "source": []
  },
  {
   "cell_type": "code",
   "execution_count": null,
   "id": "124fe731",
   "metadata": {},
   "outputs": [],
   "source": [
    "\n"
   ]
  },
  {
   "cell_type": "code",
   "execution_count": null,
   "id": "a73869d5",
   "metadata": {},
   "outputs": [],
   "source": [
    "\n"
   ]
  },
  {
   "cell_type": "code",
   "execution_count": null,
   "id": "8b66c428",
   "metadata": {},
   "outputs": [],
   "source": []
  }
 ],
 "metadata": {
  "kernelspec": {
   "display_name": "CIEM4301",
   "language": "python",
   "name": "python3"
  },
  "language_info": {
   "codemirror_mode": {
    "name": "ipython",
    "version": 3
   },
   "file_extension": ".py",
   "mimetype": "text/x-python",
   "name": "python",
   "nbconvert_exporter": "python",
   "pygments_lexer": "ipython3",
   "version": "3.13.7"
  }
 },
 "nbformat": 4,
 "nbformat_minor": 5
}
