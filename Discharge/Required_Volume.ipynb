{
 "cells": [
  {
   "cell_type": "code",
   "execution_count": 1,
   "id": "885e95d6",
   "metadata": {},
   "outputs": [],
   "source": [
    "import matplotlib.pyplot as plt\n",
    "import numpy as np\n",
    "import pandas as pd"
   ]
  },
  {
   "cell_type": "markdown",
   "id": "8a53c3f9",
   "metadata": {},
   "source": [
    "##### RIPPL Curve"
   ]
  },
  {
   "cell_type": "code",
   "execution_count": 2,
   "id": "d1285c20",
   "metadata": {},
   "outputs": [
    {
     "data": {
      "text/html": [
       "<div>\n",
       "<style scoped>\n",
       "    .dataframe tbody tr th:only-of-type {\n",
       "        vertical-align: middle;\n",
       "    }\n",
       "\n",
       "    .dataframe tbody tr th {\n",
       "        vertical-align: top;\n",
       "    }\n",
       "\n",
       "    .dataframe thead th {\n",
       "        text-align: right;\n",
       "    }\n",
       "</style>\n",
       "<table border=\"1\" class=\"dataframe\">\n",
       "  <thead>\n",
       "    <tr style=\"text-align: right;\">\n",
       "      <th></th>\n",
       "      <th>discharge</th>\n",
       "    </tr>\n",
       "    <tr>\n",
       "      <th>Date</th>\n",
       "      <th></th>\n",
       "    </tr>\n",
       "  </thead>\n",
       "  <tbody>\n",
       "    <tr>\n",
       "      <th>1965-01-01</th>\n",
       "      <td>61.793513</td>\n",
       "    </tr>\n",
       "    <tr>\n",
       "      <th>1965-01-02</th>\n",
       "      <td>61.793513</td>\n",
       "    </tr>\n",
       "    <tr>\n",
       "      <th>1965-01-03</th>\n",
       "      <td>61.793513</td>\n",
       "    </tr>\n",
       "    <tr>\n",
       "      <th>1965-01-04</th>\n",
       "      <td>61.793513</td>\n",
       "    </tr>\n",
       "    <tr>\n",
       "      <th>1965-01-05</th>\n",
       "      <td>60.690057</td>\n",
       "    </tr>\n",
       "  </tbody>\n",
       "</table>\n",
       "</div>"
      ],
      "text/plain": [
       "            discharge\n",
       "Date                 \n",
       "1965-01-01  61.793513\n",
       "1965-01-02  61.793513\n",
       "1965-01-03  61.793513\n",
       "1965-01-04  61.793513\n",
       "1965-01-05  60.690057"
      ]
     },
     "metadata": {},
     "output_type": "display_data"
    }
   ],
   "source": [
    "df = pd.read_csv('..\\\\Data\\\\Discharge_670.csv')\n",
    "\n",
    "data = np.array([])\n",
    "for column in df.columns[1:]:\n",
    "    data = np.append(data, df[column].values)\n",
    "\n",
    "df = pd.DataFrame(data, columns=[\"discharge\"])\n",
    "date = pd.date_range(start=\"1965-01-01\", periods=len(data), freq=\"D\")\n",
    "df[\"Date\"] = date\n",
    "df = df.set_index(\"Date\")\n",
    "\n",
    "# df = df[df.index > \"2000-01-01\"]\n",
    "\n",
    "display(df.head())"
   ]
  },
  {
   "cell_type": "code",
   "execution_count": 3,
   "id": "fb363bef",
   "metadata": {},
   "outputs": [
    {
     "data": {
      "text/html": [
       "<div>\n",
       "<style scoped>\n",
       "    .dataframe tbody tr th:only-of-type {\n",
       "        vertical-align: middle;\n",
       "    }\n",
       "\n",
       "    .dataframe tbody tr th {\n",
       "        vertical-align: top;\n",
       "    }\n",
       "\n",
       "    .dataframe thead th {\n",
       "        text-align: right;\n",
       "    }\n",
       "</style>\n",
       "<table border=\"1\" class=\"dataframe\">\n",
       "  <thead>\n",
       "    <tr style=\"text-align: right;\">\n",
       "      <th></th>\n",
       "      <th>discharge</th>\n",
       "      <th>cum</th>\n",
       "      <th>demand_cum</th>\n",
       "      <th>shortage</th>\n",
       "    </tr>\n",
       "    <tr>\n",
       "      <th>Date</th>\n",
       "      <th></th>\n",
       "      <th></th>\n",
       "      <th></th>\n",
       "      <th></th>\n",
       "    </tr>\n",
       "  </thead>\n",
       "  <tbody>\n",
       "    <tr>\n",
       "      <th>1</th>\n",
       "      <td>4.534098e+08</td>\n",
       "      <td>453.409768</td>\n",
       "      <td>609.277649</td>\n",
       "      <td>155.867881</td>\n",
       "    </tr>\n",
       "    <tr>\n",
       "      <th>2</th>\n",
       "      <td>5.117705e+08</td>\n",
       "      <td>965.180258</td>\n",
       "      <td>1218.555299</td>\n",
       "      <td>253.375040</td>\n",
       "    </tr>\n",
       "    <tr>\n",
       "      <th>3</th>\n",
       "      <td>5.512859e+08</td>\n",
       "      <td>1516.466109</td>\n",
       "      <td>1827.832948</td>\n",
       "      <td>311.366839</td>\n",
       "    </tr>\n",
       "    <tr>\n",
       "      <th>4</th>\n",
       "      <td>6.893799e+08</td>\n",
       "      <td>2205.846039</td>\n",
       "      <td>2437.110597</td>\n",
       "      <td>231.264558</td>\n",
       "    </tr>\n",
       "    <tr>\n",
       "      <th>5</th>\n",
       "      <td>8.089902e+08</td>\n",
       "      <td>3014.836234</td>\n",
       "      <td>3046.388247</td>\n",
       "      <td>31.552012</td>\n",
       "    </tr>\n",
       "  </tbody>\n",
       "</table>\n",
       "</div>"
      ],
      "text/plain": [
       "         discharge          cum   demand_cum    shortage\n",
       "Date                                                    \n",
       "1     4.534098e+08   453.409768   609.277649  155.867881\n",
       "2     5.117705e+08   965.180258  1218.555299  253.375040\n",
       "3     5.512859e+08  1516.466109  1827.832948  311.366839\n",
       "4     6.893799e+08  2205.846039  2437.110597  231.264558\n",
       "5     8.089902e+08  3014.836234  3046.388247   31.552012"
      ]
     },
     "metadata": {},
     "output_type": "display_data"
    },
    {
     "name": "stdout",
     "output_type": "stream",
     "text": [
      "311.3668389313227\n"
     ]
    },
    {
     "data": {
      "image/png": "[encoded data removed]",
      "text/plain": [
       "<Figure size 800x600 with 1 Axes>"
      ]
     },
     "metadata": {},
     "output_type": "display_data"
    }
   ],
   "source": [
    "df_aten = df.resample(\"ME\").mean()\n",
    "df_aten = df_aten.groupby(df_aten.index.month).mean()\n",
    "df_aten[\"discharge\"] = df_aten[\"discharge\"] * 3600 * 24 * 30.44 # hm³/month\n",
    "df_aten[\"cum\"] = df_aten[\"discharge\"].cumsum() / 10**6  # in hm³\n",
    "demand = df_aten[\"discharge\"].mean()\n",
    "df_aten[\"demand\"] = demand  / 10**6\n",
    "df_aten[\"demand_cum\"] = df_aten[\"demand\"].cumsum()\n",
    "df_aten.drop(columns=[\"demand\"], inplace=True)\n",
    "df_aten[\"shortage\"] = df_aten[\"demand_cum\"] - df_aten[\"cum\"]\n",
    "display(df_aten.head())\n",
    "\n",
    "shortage = df_aten[\"shortage\"].max()\n",
    "shortage_date = df_aten[\"shortage\"].idxmax()\n",
    "overflow = -df_aten[\"shortage\"].min()\n",
    "overflow_date = df_aten[\"shortage\"].idxmin()\n",
    "print(shortage)\n",
    "\n",
    "fig, ax = plt.subplots(figsize=(8, 6))\n",
    "\n",
    "# ax.plot(df_aten.index, df_aten[\"discharge\"], color=\"black\", label=\"Daily Discharge\")\n",
    "\n",
    "ax.plot(df_aten.index, df_aten[\"cum\"], color=\"black\", label=\"Cumulative Discharge\")\n",
    "ax.plot(df_aten.index, df_aten[\"demand_cum\"], \"r--\", label=f\"Demand: {demand/10**6:.0f} hm³/month\")\n",
    "ax.set_xlim(1, 12)\n",
    "ax.set_xticks(range(1, 13))\n",
    "ax.set_xticklabels(\n",
    "    [\n",
    "        \"Jan\",\n",
    "        \"Feb\",\n",
    "        \"Mar\",\n",
    "        \"Apr\",\n",
    "        \"May\",\n",
    "        \"Jun\",\n",
    "        \"Jul\",\n",
    "        \"Aug\",\n",
    "        \"Sep\",\n",
    "        \"Oct\",\n",
    "        \"Nov\",\n",
    "        \"Dec\",\n",
    "    ]\n",
    ")\n",
    "ax.annotate('',\n",
    "            xy=(shortage_date, df_aten.loc[shortage_date, \"cum\"]),\n",
    "            xytext=(shortage_date, df_aten.loc[shortage_date, \"demand_cum\"]),\n",
    "            arrowprops=dict(arrowstyle='<->', color='black', lw=1)\n",
    "           )\n",
    "ax.text(shortage_date + 0.2, (df_aten.loc[shortage_date, \"cum\"] + df_aten.loc[shortage_date, \"demand_cum\"]) / 2,\n",
    "        f'Shortage: {shortage:,.0f} hm³', color='black', va='center', backgroundcolor='white')\n",
    "\n",
    "ax.annotate('',\n",
    "            xy=(overflow_date, df_aten.loc[overflow_date, \"cum\"]),\n",
    "            xytext=(overflow_date, df_aten.loc[overflow_date, \"demand_cum\"]),\n",
    "            arrowprops=dict(arrowstyle='<->', color='black', lw=1)\n",
    "           )\n",
    "ax.text(overflow_date + 0.2, (df_aten.loc[overflow_date, \"cum\"] + df_aten.loc[overflow_date, \"demand_cum\"]) / 2,\n",
    "        f'Overflow: {overflow:,.0f} hm³', color='black', va='center', backgroundcolor='white')  \n",
    "\n",
    "ax.grid()\n",
    "ax.legend()\n",
    "ax.set_title('Cumulative Discharge and Demand')\n",
    "\n",
    "plt.savefig('..\\\\figures\\\\discharge_demand.png', dpi=300)"
   ]
  },
  {
   "cell_type": "markdown",
   "id": "348a49c7",
   "metadata": {},
   "source": [
    "#### Universal Soil Loss Equation"
   ]
  },
  {
   "cell_type": "code",
   "execution_count": 6,
   "id": "81e7cdfd",
   "metadata": {},
   "outputs": [
    {
     "name": "stdout",
     "output_type": "stream",
     "text": [
      "Soil loss: 180.00 t/ha/yr\n",
      "Required volume for sediment retention: 112.85 hm³\n"
     ]
    }
   ],
   "source": [
    "R = 7500        # [MJ mm / (ha h yr)]\n",
    "K = 0.015       # [t ha h / (h ha MJ mm)]\n",
    "C = 0.2         # [-]\n",
    "LS = 8          # [-]\n",
    "P = 1           # [-]\n",
    "gamma_s = 0.1\n",
    "\n",
    "E = R * K * C * LS * P  # [t/ha/yr]\n",
    "print(f\"Soil loss: {E:.2f} t/ha/yr\")\n",
    "\n",
    "DL = 50 # [yr]\n",
    "A = 3260 * 100 # [ha]\n",
    "rho = 2.6 # [t/m3]\n",
    "vol_req_E = (E * A * DL / rho / 10**6) * gamma_s # [hm³]\n",
    "\n",
    "print(f\"Required volume for sediment retention: {vol_req_E:.2f} hm³\")\n"
   ]
  },
  {
   "cell_type": "code",
   "execution_count": 7,
   "id": "958dbad5",
   "metadata": {},
   "outputs": [
    {
     "name": "stdout",
     "output_type": "stream",
     "text": [
      "Total required volume: 424.21 hm³\n"
     ]
    }
   ],
   "source": [
    "vol_req_tot = shortage + vol_req_E\n",
    "print(f\"Total required volume: {vol_req_tot:.2f} hm³\")\n"
   ]
  },
  {
   "cell_type": "code",
   "execution_count": null,
   "id": "a92455eb",
   "metadata": {},
   "outputs": [],
   "source": []
  },
  {
   "cell_type": "code",
   "execution_count": null,
   "id": "124fe731",
   "metadata": {},
   "outputs": [],
   "source": [
    "\n"
   ]
  },
  {
   "cell_type": "code",
   "execution_count": null,
   "id": "a73869d5",
   "metadata": {},
   "outputs": [],
   "source": [
    "\n"
   ]
  },
  {
   "cell_type": "code",
   "execution_count": null,
   "id": "8b66c428",
   "metadata": {},
   "outputs": [],
   "source": []
  }
 ],
 "metadata": {
  "kernelspec": {
   "display_name": "CIEM4301",
   "language": "python",
   "name": "python3"
  },
  "language_info": {
   "codemirror_mode": {
    "name": "ipython",
    "version": 3
   },
   "file_extension": ".py",
   "mimetype": "text/x-python",
   "name": "python",
   "nbconvert_exporter": "python",
   "pygments_lexer": "ipython3",
   "version": "3.13.7"
  }
 },
 "nbformat": 4,
 "nbformat_minor": 5
}
