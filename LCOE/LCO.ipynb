{
 "cells": [
  {
   "cell_type": "code",
   "execution_count": 1,
   "id": "4f80c179",
   "metadata": {},
   "outputs": [],
   "source": [
    "import matplotlib.pyplot as plt\n",
    "import numpy as np\n",
    "import pandas as pd\n",
    "import pandas as pd"
   ]
  },
  {
   "cell_type": "code",
   "execution_count": 20,
   "id": "e89ff15b",
   "metadata": {},
   "outputs": [
    {
     "name": "stdout",
     "output_type": "stream",
     "text": [
      "The LCOE is 2.09567 in € per MWh\n"
     ]
    }
   ],
   "source": [
    "life_time = 50\n",
    "discharge = 232\n",
    "efficiency = 0.7\n",
    "init_cost = 1000000000\n",
    "op_cost = 10000000\n",
    "g = 9.81\n",
    "r = 0.02\n",
    "head_diff = 143\n",
    "rho_w = 1000\n",
    "power = g * efficiency * head_diff * discharge * rho_w * 10\n",
    "power = power / 1000000\n",
    "ann_E = power * 24 * 365\n",
    "sum_E = 0\n",
    "sum_cost = 0\n",
    "for i in range(1,life_time+1):\n",
    "    sum_E = sum_E + ann_E / (1 + r) ** i\n",
    "    sum_cost = sum_cost + op_cost / (1 + r) ** i\n",
    "    if i == 1:\n",
    "        sum_cost = sum_cost + init_cost\n",
    "\n",
    "LCOE = sum_cost / sum_E\n",
    "\n",
    "print(f'The LCOE is {LCOE:.5f} in € per MWh')\n"
   ]
  },
  {
   "cell_type": "code",
   "execution_count": null,
   "id": "f134110e",
   "metadata": {},
   "outputs": [],
   "source": []
  },
  {
   "cell_type": "code",
   "execution_count": null,
   "id": "8ab32e91",
   "metadata": {},
   "outputs": [],
   "source": []
  }
 ],
 "metadata": {
  "kernelspec": {
   "display_name": "Python (mude-base)",
   "language": "python",
   "name": "mude-base"
  },
  "language_info": {
   "codemirror_mode": {
    "name": "ipython",
    "version": 3
   },
   "file_extension": ".py",
   "mimetype": "text/x-python",
   "name": "python",
   "nbconvert_exporter": "python",
   "pygments_lexer": "ipython3",
   "version": "3.12.4"
  }
 },
 "nbformat": 4,
 "nbformat_minor": 5
}
