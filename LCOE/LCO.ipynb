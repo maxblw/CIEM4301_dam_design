{
 "cells": [
  {
   "cell_type": "code",
   "execution_count": 2,
   "id": "4f80c179",
   "metadata": {},
   "outputs": [],
   "source": [
    "import matplotlib.pyplot as plt\n",
    "import numpy as np\n",
    "import pandas as pd"
   ]
  },
  {
   "cell_type": "code",
   "execution_count": 8,
   "id": "e89ff15b",
   "metadata": {},
   "outputs": [],
   "source": [
    "\n",
    "\n",
    "def LCOE(discharge, init_cost, op_cost, head_diff, alternative):\n",
    "    life_time = 50\n",
    "    efficiency = 0.7\n",
    "    days_per_year = 355\n",
    "    annual_fraction = days_per_year / 365\n",
    "    g = 9.81\n",
    "    r = 0.02\n",
    "    rho_w = 1000\n",
    "    power = g * efficiency * head_diff * discharge * rho_w * annual_fraction\n",
    "    power = power / 10**6 #MW\n",
    "    ann_E = power * 24 * 365 #MWh\n",
    "    sum_E = 0\n",
    "    sum_cost = 0\n",
    "    for i in range(1,life_time+1):\n",
    "        sum_E = (sum_E + ann_E / (1 + r) ** i)\n",
    "        sum_cost = sum_cost + op_cost / (1 + r) ** i\n",
    "        if i == 1:\n",
    "            sum_cost = sum_cost + init_cost\n",
    "\n",
    "    LCOE = sum_cost / sum_E\n",
    "\n",
    "    print(f'Alternative: {alternative}')\n",
    "    print(f'The annual energy production is {ann_E:.2f} in MWh')\n",
    "    print(f'power is {power:.2f} in MW')\n",
    "    print(f'The LCOE is {LCOE:.5f} in € per MWh')\n",
    "    print()\n",
    "    print()\n",
    "    return\n"
   ]
  },
  {
   "cell_type": "code",
   "execution_count": 13,
   "id": "f134110e",
   "metadata": {},
   "outputs": [
    {
     "name": "stdout",
     "output_type": "stream",
     "text": [
      "Alternative: 1\n",
      "The annual energy production is 779672.10 in MWh\n",
      "power is 89.00 in MW\n",
      "The LCOE is 20.24479 in € per MWh\n",
      "\n",
      "\n",
      "Alternative: 2\n",
      "The annual energy production is 954144.17 in MWh\n",
      "power is 108.92 in MW\n",
      "The LCOE is 29.43568 in € per MWh\n",
      "\n",
      "\n",
      "Alternative: 3\n",
      "The annual energy production is 954144.17 in MWh\n",
      "power is 108.92 in MW\n",
      "The LCOE is 44.83578 in € per MWh\n",
      "\n",
      "\n"
     ]
    }
   ],
   "source": [
    "init_cost = [464.576 * 10**6, 851.136 * 10**6, 1312.872 * 10**6]\n",
    "discharge = 93.19\n",
    "head_diff = [143, 175, 175]\n",
    "op_cost = 1 * 10**6\n",
    "for i in range(len(head_diff)):\n",
    "    LCOE(discharge, init_cost[i], op_cost, head_diff[i], i+1)"
   ]
  },
  {
   "cell_type": "code",
   "execution_count": null,
   "id": "8ab32e91",
   "metadata": {},
   "outputs": [],
   "source": []
  }
 ],
 "metadata": {
  "kernelspec": {
   "display_name": "Python 3",
   "language": "python",
   "name": "python3"
  },
  "language_info": {
   "codemirror_mode": {
    "name": "ipython",
    "version": 3
   },
   "file_extension": ".py",
   "mimetype": "text/x-python",
   "name": "python",
   "nbconvert_exporter": "python",
   "pygments_lexer": "ipython3",
   "version": "3.12.4"
  }
 },
 "nbformat": 4,
 "nbformat_minor": 5
}
