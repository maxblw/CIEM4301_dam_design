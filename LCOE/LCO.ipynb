{
 "cells": [
  {
   "cell_type": "code",
   "execution_count": 1,
   "id": "4f80c179",
   "metadata": {},
   "outputs": [],
   "source": [
    "import matplotlib.pyplot as plt\n",
    "import numpy as np\n",
    "import pandas as pd\n",
    "import pandas as pd"
   ]
  },
  {
   "cell_type": "code",
   "execution_count": 22,
   "id": "e89ff15b",
   "metadata": {},
   "outputs": [
    {
     "name": "stdout",
     "output_type": "stream",
     "text": [
      "The annual energy production is 1667444.94 in MWh\n",
      "power is 190.35 in MW\n",
      "The LCOE is 9.01621 in € per MWh\n"
     ]
    }
   ],
   "source": [
    "life_time = 50\n",
    "discharge = 95\n",
    "efficiency = 0.7\n",
    "days_per_year = 355\n",
    "annual_fraction = days_per_year / 365\n",
    "init_cost = (250+131+60) * 10**6\n",
    "op_cost = 1 * 10**6\n",
    "g = 9.81\n",
    "r = 0.02\n",
    "head_diff = 300\n",
    "rho_w = 1000\n",
    "power = g * efficiency * head_diff * discharge * rho_w * annual_fraction\n",
    "power = power / 10**6 #MW\n",
    "ann_E = power * 24 * 365 #MWh\n",
    "sum_E = 0\n",
    "sum_cost = 0\n",
    "for i in range(1,life_time+1):\n",
    "    sum_E = (sum_E + ann_E / (1 + r) ** i)\n",
    "    sum_cost = sum_cost + op_cost / (1 + r) ** i\n",
    "    if i == 1:\n",
    "        sum_cost = sum_cost + init_cost\n",
    "\n",
    "LCOE = sum_cost / sum_E\n",
    "\n",
    "print(f'The annual energy production is {ann_E:.2f} in MWh')\n",
    "print(f'power is {power:.2f} in MW')\n",
    "print(f'The LCOE is {LCOE:.5f} in € per MWh')\n"
   ]
  },
  {
   "cell_type": "code",
   "execution_count": null,
   "id": "f134110e",
   "metadata": {},
   "outputs": [],
   "source": []
  },
  {
   "cell_type": "code",
   "execution_count": null,
   "id": "8ab32e91",
   "metadata": {},
   "outputs": [],
   "source": []
  }
 ],
 "metadata": {
  "kernelspec": {
   "display_name": "CIEM4301",
   "language": "python",
   "name": "python3"
  },
  "language_info": {
   "codemirror_mode": {
    "name": "ipython",
    "version": 3
   },
   "file_extension": ".py",
   "mimetype": "text/x-python",
   "name": "python",
   "nbconvert_exporter": "python",
   "pygments_lexer": "ipython3",
   "version": "3.13.7"
  }
 },
 "nbformat": 4,
 "nbformat_minor": 5
}
