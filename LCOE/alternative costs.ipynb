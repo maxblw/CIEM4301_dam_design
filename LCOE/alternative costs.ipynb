{
 "cells": [
  {
   "cell_type": "code",
   "execution_count": 14,
   "id": "db6bc4b6",
   "metadata": {},
   "outputs": [],
   "source": [
    "import numpy as np\n"
   ]
  },
  {
   "cell_type": "code",
   "execution_count": 15,
   "id": "cdb9f174",
   "metadata": {},
   "outputs": [
    {
     "name": "stdout",
     "output_type": "stream",
     "text": [
      "Total cost of gravity dam: $264,576,000.00\n",
      "Total cost of earthfill dam: $451,136,000.00\n",
      "Total cost of arch dam: $912,872,000.00\n",
      "Total cost of rockfill dam: $414,248,000.00\n"
     ]
    }
   ],
   "source": [
    "V = 424 * 10**6\n",
    "\n",
    "C_gravity = 624\n",
    "C_earthfill = 1064\n",
    "C_arch = 2153\n",
    "C_rockfill = 977\n",
    "\n",
    "C_gravity_total = (C_gravity / 1000) * V\n",
    "C_earthfill_total = (C_earthfill / 1000) * V\n",
    "C_arch_total = (C_arch / 1000) * V\n",
    "C_rockfill_total = (C_rockfill / 1000) * V\n",
    "\n",
    "print(\"Total cost of gravity dam: ${:,.2f}\".format(C_gravity_total))\n",
    "print(\"Total cost of earthfill dam: ${:,.2f}\".format(C_earthfill_total))\n",
    "print(\"Total cost of arch dam: ${:,.2f}\".format(C_arch_total))\n",
    "print(\"Total cost of rockfill dam: ${:,.2f}\".format(C_rockfill_total))"
   ]
  },
  {
   "cell_type": "code",
   "execution_count": null,
   "id": "414efb22",
   "metadata": {},
   "outputs": [],
   "source": []
  }
 ],
 "metadata": {
  "kernelspec": {
   "display_name": "CIEM4301",
   "language": "python",
   "name": "python3"
  },
  "language_info": {
   "codemirror_mode": {
    "name": "ipython",
    "version": 3
   },
   "file_extension": ".py",
   "mimetype": "text/x-python",
   "name": "python",
   "nbconvert_exporter": "python",
   "pygments_lexer": "ipython3",
   "version": "3.13.7"
  }
 },
 "nbformat": 4,
 "nbformat_minor": 5
}
